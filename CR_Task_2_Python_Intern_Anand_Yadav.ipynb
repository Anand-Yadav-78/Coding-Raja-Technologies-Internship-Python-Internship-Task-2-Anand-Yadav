{
  "nbformat": 4,
  "nbformat_minor": 0,
  "metadata": {
    "colab": {
      "provenance": []
    },
    "kernelspec": {
      "name": "python3",
      "display_name": "Python 3"
    },
    "language_info": {
      "name": "python"
    }
  },
  "cells": [
    {
      "cell_type": "markdown",
      "source": [
        "# **Budget Tracker using Python**"
      ],
      "metadata": {
        "id": "kpkKh7TdjaBw"
      }
    },
    {
      "cell_type": "code",
      "source": [
        "import csv\n",
        "import os"
      ],
      "metadata": {
        "id": "nGINWysyjcIX"
      },
      "execution_count": 1,
      "outputs": []
    },
    {
      "cell_type": "code",
      "source": [
        "# File to store transactions\n",
        "file_path = 'budget_tracker.csv'"
      ],
      "metadata": {
        "id": "5Llu55pejiAA"
      },
      "execution_count": 2,
      "outputs": []
    },
    {
      "cell_type": "code",
      "source": [
        "# Function to initialize the CSV file\n",
        "def initialize_file():\n",
        "    if not os.path.exists(file_path):\n",
        "        with open(file_path, 'w', newline='') as file:\n",
        "            writer = csv.writer(file)\n",
        "            writer.writerow([\"Type\", \"Category\", \"Amount\"])"
      ],
      "metadata": {
        "id": "47gkUczhjipP"
      },
      "execution_count": 3,
      "outputs": []
    },
    {
      "cell_type": "code",
      "source": [
        "# Function to add a transaction\n",
        "def add_transaction(transaction_type, category, amount):\n",
        "    with open(file_path, 'a', newline='') as file:\n",
        "        writer = csv.writer(file)\n",
        "        writer.writerow([transaction_type, category, amount])"
      ],
      "metadata": {
        "id": "bWSsx-W4jkz4"
      },
      "execution_count": 4,
      "outputs": []
    },
    {
      "cell_type": "code",
      "source": [
        "# Function to calculate budget\n",
        "def calculate_budget():\n",
        "    total_income = 0\n",
        "    total_expense = 0\n",
        "    with open(file_path, 'r') as file:\n",
        "        reader = csv.reader(file)\n",
        "        next(reader)  # Skip header\n",
        "        for row in reader:\n",
        "            if row[0] == 'Income':\n",
        "                total_income += float(row[2])\n",
        "            elif row[0] == 'Expense':\n",
        "                total_expense += float(row[2])\n",
        "    return total_income, total_expense, total_income - total_expense\n"
      ],
      "metadata": {
        "id": "TPKlNIdijnHY"
      },
      "execution_count": 5,
      "outputs": []
    },
    {
      "cell_type": "code",
      "source": [
        "# Function to categorize expenses\n",
        "def categorize_expenses():\n",
        "    categories = {}\n",
        "    with open(file_path, 'r') as file:\n",
        "        reader = csv.reader(file)\n",
        "        next(reader)  # Skip header\n",
        "        for row in reader:\n",
        "            if row[0] == 'Expense':\n",
        "                if row[1] in categories:\n",
        "                    categories[row[1]] += float(row[2])\n",
        "                else:\n",
        "                    categories[row[1]] = float(row[2])\n",
        "    return categories"
      ],
      "metadata": {
        "id": "8owzHOe1jpOP"
      },
      "execution_count": 6,
      "outputs": []
    },
    {
      "cell_type": "code",
      "source": [
        "# Main function\n",
        "def main():\n",
        "    initialize_file()\n",
        "    while True:\n",
        "        print(\"\\nPersonal Budget Tracker\")\n",
        "        print(\"1. Add Income\")\n",
        "        print(\"2. Add Expense\")\n",
        "        print(\"3. View Budget\")\n",
        "        print(\"4. View Expense Analysis\")\n",
        "        print(\"5. Exit\")\n",
        "        choice = input(\"Enter your choice: \")\n",
        "\n",
        "        if choice == '1':\n",
        "            category = input(\"Enter income category: \")\n",
        "            amount = float(input(\"Enter amount: \"))\n",
        "            add_transaction('Income', category, amount)\n",
        "        elif choice == '2':\n",
        "            category = input(\"Enter expense category: \")\n",
        "            amount = float(input(\"Enter amount: \"))\n",
        "            add_transaction('Expense', category, amount)\n",
        "        elif choice == '3':\n",
        "            total_income, total_expense, remaining_budget = calculate_budget()\n",
        "            print(f\"\\nTotal Income: {total_income}\")\n",
        "            print(f\"Total Expense: {total_expense}\")\n",
        "            print(f\"Remaining Budget: {remaining_budget}\")\n",
        "        elif choice == '4':\n",
        "            categories = categorize_expenses()\n",
        "            print(\"\\nExpense Analysis by Category:\")\n",
        "            for category, amount in categories.items():\n",
        "                print(f\"{category}: {amount}\")\n",
        "        elif choice == '5':\n",
        "            print(\"Exiting Personal Budget Tracker. Goodbye!\")\n",
        "            break\n",
        "        else:\n",
        "            print(\"Invalid choice. Please try again.\")\n",
        "\n",
        "if __name__ == \"__main__\":\n",
        "    main()"
      ],
      "metadata": {
        "colab": {
          "base_uri": "https://localhost:8080/"
        },
        "id": "gOAMgSBVjtTo",
        "outputId": "1a43698f-92ef-4937-c28e-56fc8ce40df0"
      },
      "execution_count": 7,
      "outputs": [
        {
          "output_type": "stream",
          "name": "stdout",
          "text": [
            "\n",
            "Personal Budget Tracker\n",
            "1. Add Income\n",
            "2. Add Expense\n",
            "3. View Budget\n",
            "4. View Expense Analysis\n",
            "5. Exit\n",
            "Enter your choice: 1\n",
            "Enter income category: Salary\n",
            "Enter amount: 100000\n",
            "\n",
            "Personal Budget Tracker\n",
            "1. Add Income\n",
            "2. Add Expense\n",
            "3. View Budget\n",
            "4. View Expense Analysis\n",
            "5. Exit\n",
            "Enter your choice: 2\n",
            "Enter expense category: All Rents\n",
            "Enter amount: 23000\n",
            "\n",
            "Personal Budget Tracker\n",
            "1. Add Income\n",
            "2. Add Expense\n",
            "3. View Budget\n",
            "4. View Expense Analysis\n",
            "5. Exit\n",
            "Enter your choice: 2\n",
            "Enter expense category: Groceries\n",
            "Enter amount: 4000\n",
            "\n",
            "Personal Budget Tracker\n",
            "1. Add Income\n",
            "2. Add Expense\n",
            "3. View Budget\n",
            "4. View Expense Analysis\n",
            "5. Exit\n",
            "Enter your choice: 2\n",
            "Enter expense category: All Bills\n",
            "Enter amount: 9000\n",
            "\n",
            "Personal Budget Tracker\n",
            "1. Add Income\n",
            "2. Add Expense\n",
            "3. View Budget\n",
            "4. View Expense Analysis\n",
            "5. Exit\n",
            "Enter your choice: 3\n",
            "\n",
            "Total Income: 100000.0\n",
            "Total Expense: 36000.0\n",
            "Remaining Budget: 64000.0\n",
            "\n",
            "Personal Budget Tracker\n",
            "1. Add Income\n",
            "2. Add Expense\n",
            "3. View Budget\n",
            "4. View Expense Analysis\n",
            "5. Exit\n",
            "Enter your choice: 4\n",
            "\n",
            "Expense Analysis by Category:\n",
            "All Rents: 23000.0\n",
            "Groceries: 4000.0\n",
            "All Bills: 9000.0\n",
            "\n",
            "Personal Budget Tracker\n",
            "1. Add Income\n",
            "2. Add Expense\n",
            "3. View Budget\n",
            "4. View Expense Analysis\n",
            "5. Exit\n",
            "Enter your choice: 5\n",
            "Exiting Personal Budget Tracker. Goodbye!\n"
          ]
        }
      ]
    }
  ]
}